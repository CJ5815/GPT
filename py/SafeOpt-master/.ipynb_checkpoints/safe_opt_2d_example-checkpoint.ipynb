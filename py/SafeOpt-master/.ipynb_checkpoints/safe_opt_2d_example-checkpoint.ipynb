{
 "cells": [
  {
   "cell_type": "code",
   "execution_count": 1,
   "metadata": {
    "collapsed": false
   },
   "outputs": [
    {
     "ename": "ImportError",
     "evalue": "No module named ipywidgets",
     "output_type": "error",
     "traceback": [
      "\u001b[1;31m---------------------------------------------------------------------------\u001b[0m",
      "\u001b[1;31mImportError\u001b[0m                               Traceback (most recent call last)",
      "\u001b[1;32m<ipython-input-1-998f9203a64c>\u001b[0m in \u001b[0;36m<module>\u001b[1;34m()\u001b[0m\n\u001b[0;32m     10\u001b[0m \u001b[0mget_ipython\u001b[0m\u001b[1;33m(\u001b[0m\u001b[1;33m)\u001b[0m\u001b[1;33m.\u001b[0m\u001b[0mmagic\u001b[0m\u001b[1;33m(\u001b[0m\u001b[1;34mu'matplotlib inline'\u001b[0m\u001b[1;33m)\u001b[0m\u001b[1;33m\u001b[0m\u001b[0m\n\u001b[0;32m     11\u001b[0m \u001b[1;33m\u001b[0m\u001b[0m\n\u001b[1;32m---> 12\u001b[1;33m \u001b[1;32mimport\u001b[0m \u001b[0mipywidgets\u001b[0m \u001b[1;32mas\u001b[0m \u001b[0mwidgets\u001b[0m \u001b[1;31m# Widget definitions\u001b[0m\u001b[1;33m\u001b[0m\u001b[0m\n\u001b[0m\u001b[0;32m     13\u001b[0m \u001b[1;32mfrom\u001b[0m \u001b[0mIPython\u001b[0m \u001b[1;32mimport\u001b[0m \u001b[0mdisplay\u001b[0m \u001b[1;31m# Used to display widgets in the notebook\u001b[0m\u001b[1;33m\u001b[0m\u001b[0m\n",
      "\u001b[1;31mImportError\u001b[0m: No module named ipywidgets"
     ]
    }
   ],
   "source": [
    "from __future__ import print_function, division, absolute_import\n",
    "\n",
    "# %load_ext autoreload\n",
    "# %autoreload 2\n",
    "\n",
    "import safeopt\n",
    "import GPy\n",
    "import matplotlib\n",
    "import matplotlib.pyplot as plt\n",
    "%matplotlib inline\n",
    "\n",
    "import ipywidgets as widgets # Widget definitions\n",
    "from IPython import display # Used to display widgets in the notebook"
   ]
  },
  {
   "cell_type": "markdown",
   "metadata": {},
   "source": [
    "## Define a kernel and function\n",
    "\n",
    "Here we define a kernel. The function is drawn at random from the GP and is corrupted my Gaussian noise"
   ]
  },
  {
   "cell_type": "code",
   "execution_count": 2,
   "metadata": {
    "collapsed": false
   },
   "outputs": [
    {
     "ename": "NameError",
     "evalue": "name 'np' is not defined",
     "output_type": "error",
     "traceback": [
      "\u001b[1;31m---------------------------------------------------------------------------\u001b[0m",
      "\u001b[1;31mNameError\u001b[0m                                 Traceback (most recent call last)",
      "\u001b[1;32m<ipython-input-2-40d0a3fa983a>\u001b[0m in \u001b[0;36m<module>\u001b[1;34m()\u001b[0m\n\u001b[0;32m     16\u001b[0m \u001b[1;33m\u001b[0m\u001b[0m\n\u001b[0;32m     17\u001b[0m \u001b[1;31m# Initial safe point\u001b[0m\u001b[1;33m\u001b[0m\u001b[1;33m\u001b[0m\u001b[0m\n\u001b[1;32m---> 18\u001b[1;33m \u001b[0mx0\u001b[0m \u001b[1;33m=\u001b[0m \u001b[0mnp\u001b[0m\u001b[1;33m.\u001b[0m\u001b[0mzeros\u001b[0m\u001b[1;33m(\u001b[0m\u001b[1;33m(\u001b[0m\u001b[1;36m1\u001b[0m\u001b[1;33m,\u001b[0m \u001b[0mlen\u001b[0m\u001b[1;33m(\u001b[0m\u001b[0mbounds\u001b[0m\u001b[1;33m)\u001b[0m\u001b[1;33m)\u001b[0m\u001b[1;33m)\u001b[0m\u001b[1;33m\u001b[0m\u001b[0m\n\u001b[0m\u001b[0;32m     19\u001b[0m \u001b[1;33m\u001b[0m\u001b[0m\n\u001b[0;32m     20\u001b[0m \u001b[1;31m# Generate function with safe initial point at x=0\u001b[0m\u001b[1;33m\u001b[0m\u001b[1;33m\u001b[0m\u001b[0m\n",
      "\u001b[1;31mNameError\u001b[0m: name 'np' is not defined"
     ]
    }
   ],
   "source": [
    "noise_var = 0.05 ** 2\n",
    "\n",
    "# Set fixed Gaussian measurement noise\n",
    "likelihood = GPy.likelihoods.gaussian.Gaussian(variance=noise_var)\n",
    "likelihood.constrain_fixed(warning=False);\n",
    "\n",
    "# Bounds on the inputs variable\n",
    "bounds = [(-5., 5.), (-5., 5.)]\n",
    "\n",
    "# set of parameters\n",
    "parameter_set = safeopt.linearly_spaced_combinations(bounds, 100)\n",
    "\n",
    "# Define Kernel\n",
    "kernel = GPy.kern.RBF(input_dim=len(bounds), variance=2., lengthscale=1.0,\n",
    "                      ARD=True)\n",
    "\n",
    "# Initial safe point\n",
    "x0 = np.zeros((1, len(bounds)))\n",
    "\n",
    "# Generate function with safe initial point at x=0\n",
    "def sample_safe_fun():\n",
    "    while True:\n",
    "        fun = safeopt.sample_gp_function(kernel, bounds, noise_var, 10)\n",
    "        if fun([0,0], noise=False) > 0.5:\n",
    "            break\n",
    "    return fun"
   ]
  },
  {
   "cell_type": "markdown",
   "metadata": {},
   "source": [
    "## Interactive run of the algorithm\n",
    "\n",
    "The slow part of running this is the plotting with matplotlib. Consider switching to the 2D level sets."
   ]
  },
  {
   "cell_type": "code",
   "execution_count": 3,
   "metadata": {
    "collapsed": false,
    "scrolled": true
   },
   "outputs": [
    {
     "ename": "NameError",
     "evalue": "name 'widgets' is not defined",
     "output_type": "error",
     "traceback": [
      "\u001b[1;31m---------------------------------------------------------------------------\u001b[0m",
      "\u001b[1;31mNameError\u001b[0m                                 Traceback (most recent call last)",
      "\u001b[1;32m<ipython-input-3-9cd9ef6176ee>\u001b[0m in \u001b[0;36m<module>\u001b[1;34m()\u001b[0m\n\u001b[1;32m----> 1\u001b[1;33m \u001b[0mbutton_add\u001b[0m \u001b[1;33m=\u001b[0m \u001b[0mwidgets\u001b[0m\u001b[1;33m.\u001b[0m\u001b[0mButton\u001b[0m\u001b[1;33m(\u001b[0m\u001b[0mdescription\u001b[0m\u001b[1;33m=\u001b[0m\u001b[1;34m'Add sample'\u001b[0m\u001b[1;33m,\u001b[0m \u001b[0mtooltip\u001b[0m\u001b[1;33m=\u001b[0m\u001b[1;34m'Sample a new data point for the optimization'\u001b[0m\u001b[1;33m)\u001b[0m\u001b[1;33m\u001b[0m\u001b[0m\n\u001b[0m\u001b[0;32m      2\u001b[0m \u001b[0mbutton_reset\u001b[0m \u001b[1;33m=\u001b[0m \u001b[0mwidgets\u001b[0m\u001b[1;33m.\u001b[0m\u001b[0mButton\u001b[0m\u001b[1;33m(\u001b[0m\u001b[0mdescription\u001b[0m\u001b[1;33m=\u001b[0m\u001b[1;34m'Reset'\u001b[0m\u001b[1;33m,\u001b[0m \u001b[0mtooltip\u001b[0m\u001b[1;33m=\u001b[0m\u001b[1;34m'Restart the safe optimization algorithm'\u001b[0m\u001b[1;33m)\u001b[0m\u001b[1;33m\u001b[0m\u001b[0m\n\u001b[0;32m      3\u001b[0m \u001b[0mbutton_new\u001b[0m \u001b[1;33m=\u001b[0m \u001b[0mwidgets\u001b[0m\u001b[1;33m.\u001b[0m\u001b[0mButton\u001b[0m\u001b[1;33m(\u001b[0m\u001b[0mdescription\u001b[0m\u001b[1;33m=\u001b[0m\u001b[1;34m'New function'\u001b[0m\u001b[1;33m,\u001b[0m \u001b[0mtooltip\u001b[0m\u001b[1;33m=\u001b[0m\u001b[1;34m'Add a new function and reset'\u001b[0m\u001b[1;33m)\u001b[0m\u001b[1;33m\u001b[0m\u001b[0m\n\u001b[0;32m      4\u001b[0m \u001b[0mbutton_3d\u001b[0m \u001b[1;33m=\u001b[0m \u001b[0mwidgets\u001b[0m\u001b[1;33m.\u001b[0m\u001b[0mButton\u001b[0m\u001b[1;33m(\u001b[0m\u001b[0mdescription\u001b[0m\u001b[1;33m=\u001b[0m\u001b[1;34m'Toggle 2D/3D'\u001b[0m\u001b[1;33m,\u001b[0m \u001b[0mtooltip\u001b[0m\u001b[1;33m=\u001b[0m\u001b[1;34m'Toggle 2D/3D view'\u001b[0m\u001b[1;33m)\u001b[0m\u001b[1;33m\u001b[0m\u001b[0m\n\u001b[0;32m      5\u001b[0m \u001b[1;33m\u001b[0m\u001b[0m\n",
      "\u001b[1;31mNameError\u001b[0m: name 'widgets' is not defined"
     ]
    }
   ],
   "source": [
    "button_add = widgets.Button(description='Add sample', tooltip='Sample a new data point for the optimization')\n",
    "button_reset = widgets.Button(description='Reset', tooltip='Restart the safe optimization algorithm')\n",
    "button_new = widgets.Button(description='New function', tooltip='Add a new function and reset')\n",
    "button_3d = widgets.Button(description='Toggle 2D/3D', tooltip='Toggle 2D/3D view')\n",
    "\n",
    "plot_3d = False\n",
    "def plot_gp():\n",
    "    gp_opt.plot(plot_3d=plot_3d, n_samples=50)\n",
    "    \n",
    "    # Plot last point red\n",
    "    if gp_opt.gp is not None:\n",
    "        if plot_3d:\n",
    "            pass\n",
    "            plt.plot(gp_opt.gp.X[-1, 0, None], gp_opt.gp.X[-1, 1, None], gp_opt.gp.Y[-1, 0, None],\n",
    "                     'rx', ms=10, mew=3, label='Last Point')\n",
    "        else:\n",
    "            plt.plot(gp_opt.gp.X[-1, 0], gp_opt.gp.X[-1, 1],\n",
    "                     'rx', ms=10, mew=3, label='Last Point')\n",
    "\n",
    "    # Ensure we only get one plot\n",
    "    display.clear_output(wait=True)\n",
    "    \n",
    "def toggle_3d(b=None):\n",
    "    global plot_3d\n",
    "    plot_3d = not plot_3d\n",
    "    plot_gp()\n",
    "button_3d.on_click(toggle_3d)\n",
    "\n",
    "def new_sample(b=None):\n",
    "    \"\"\"Draw a new gp sample\"\"\"\n",
    "    gp_opt.optimize()\n",
    "    plot_gp()\n",
    "button_add.on_click(new_sample)\n",
    "\n",
    "def reset(b=None):\n",
    "    \"\"\"Reset the GP-UCB algorithm\"\"\"\n",
    "    global gp_opt\n",
    "    gp = GPy.core.GP(x0, fun(x0), kernel, likelihood)\n",
    "    gp_opt = safeopt.SafeOpt(fun, gp, parameter_set, 0.)\n",
    "    plot_gp()\n",
    "button_reset.on_click(reset)\n",
    "\n",
    "def new_fun(b=None):\n",
    "    \"\"\"Draw a new function from the GP\"\"\"\n",
    "    global fun\n",
    "    fun = sample_safe_fun()\n",
    "    reset(b)\n",
    "button_new.on_click(new_fun)\n",
    "\n",
    "display.display(button_add, button_new, button_3d, button_reset)\n",
    "new_fun()"
   ]
  },
  {
   "cell_type": "code",
   "execution_count": null,
   "metadata": {
    "collapsed": true
   },
   "outputs": [],
   "source": []
  },
  {
   "cell_type": "code",
   "execution_count": null,
   "metadata": {
    "collapsed": true
   },
   "outputs": [],
   "source": []
  }
 ],
 "metadata": {
  "kernelspec": {
   "display_name": "Python 2",
   "language": "python",
   "name": "python2"
  },
  "language_info": {
   "codemirror_mode": {
    "name": "ipython",
    "version": 2
   },
   "file_extension": ".py",
   "mimetype": "text/x-python",
   "name": "python",
   "nbconvert_exporter": "python",
   "pygments_lexer": "ipython2",
   "version": "2.7.6"
  }
 },
 "nbformat": 4,
 "nbformat_minor": 0
}
