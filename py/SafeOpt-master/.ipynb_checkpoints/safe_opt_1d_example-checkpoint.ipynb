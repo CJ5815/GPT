{
 "cells": [
  {
   "cell_type": "code",
   "execution_count": 1,
   "metadata": {
    "collapsed": false
   },
   "outputs": [],
   "source": [
    "from __future__ import print_function, division, absolute_import\n",
    "\n",
    "# %load_ext autoreload\n",
    "# %autoreload 2\n",
    "\n",
    "import safeopt\n",
    "import GPy\n",
    "import matplotlib.pyplot as plt\n",
    "%matplotlib inline\n",
    "\n",
    "import ipywidgets as widgets # Widget definitions\n",
    "from IPython import display # Used to display widgets in the notebook"
   ]
  },
  {
   "cell_type": "markdown",
   "metadata": {},
   "source": [
    "## Define a kernel and function\n",
    "\n",
    "Here we define a kernel. The function is drawn at random from the GP and is corrupted my Gaussian noise"
   ]
  },
  {
   "cell_type": "code",
   "execution_count": 2,
   "metadata": {
    "collapsed": false
   },
   "outputs": [
    {
     "ename": "ValueError",
     "evalue": "meshgrid() takes 2 or more arguments (1 given)",
     "output_type": "error",
     "traceback": [
      "\u001b[1;31m---------------------------------------------------------------------------\u001b[0m",
      "\u001b[1;31mValueError\u001b[0m                                Traceback (most recent call last)",
      "\u001b[1;32m<ipython-input-2-afbd63881789>\u001b[0m in \u001b[0;36m<module>\u001b[1;34m()\u001b[0m\n\u001b[0;32m     12\u001b[0m \u001b[1;33m\u001b[0m\u001b[0m\n\u001b[0;32m     13\u001b[0m \u001b[1;31m# set of parameters\u001b[0m\u001b[1;33m\u001b[0m\u001b[1;33m\u001b[0m\u001b[0m\n\u001b[1;32m---> 14\u001b[1;33m \u001b[0mparameter_set\u001b[0m \u001b[1;33m=\u001b[0m \u001b[0msafeopt\u001b[0m\u001b[1;33m.\u001b[0m\u001b[0mlinearly_spaced_combinations\u001b[0m\u001b[1;33m(\u001b[0m\u001b[0mbounds\u001b[0m\u001b[1;33m,\u001b[0m \u001b[1;36m100\u001b[0m\u001b[1;33m)\u001b[0m\u001b[1;33m\u001b[0m\u001b[0m\n\u001b[0m\u001b[0;32m     15\u001b[0m \u001b[1;33m\u001b[0m\u001b[0m\n\u001b[0;32m     16\u001b[0m \u001b[1;31m# Initial safe point\u001b[0m\u001b[1;33m\u001b[0m\u001b[1;33m\u001b[0m\u001b[0m\n",
      "\u001b[1;32m/home/hanshalbe/Desktop/GPT/SafeOpt-master/safeopt/utilities.pyc\u001b[0m in \u001b[0;36mlinearly_spaced_combinations\u001b[1;34m(bounds, num_samples)\u001b[0m\n\u001b[0;32m     46\u001b[0m \u001b[1;33m\u001b[0m\u001b[0m\n\u001b[0;32m     47\u001b[0m     \u001b[1;31m# Convert to 2-D array\u001b[0m\u001b[1;33m\u001b[0m\u001b[1;33m\u001b[0m\u001b[0m\n\u001b[1;32m---> 48\u001b[1;33m     \u001b[1;32mreturn\u001b[0m \u001b[0mnp\u001b[0m\u001b[1;33m.\u001b[0m\u001b[0marray\u001b[0m\u001b[1;33m(\u001b[0m\u001b[1;33m[\u001b[0m\u001b[0mx\u001b[0m\u001b[1;33m.\u001b[0m\u001b[0mravel\u001b[0m\u001b[1;33m(\u001b[0m\u001b[1;33m)\u001b[0m \u001b[1;32mfor\u001b[0m \u001b[0mx\u001b[0m \u001b[1;32min\u001b[0m \u001b[0mnp\u001b[0m\u001b[1;33m.\u001b[0m\u001b[0mmeshgrid\u001b[0m\u001b[1;33m(\u001b[0m\u001b[1;33m*\u001b[0m\u001b[0minputs\u001b[0m\u001b[1;33m)\u001b[0m\u001b[1;33m]\u001b[0m\u001b[1;33m)\u001b[0m\u001b[1;33m.\u001b[0m\u001b[0mT\u001b[0m\u001b[1;33m\u001b[0m\u001b[0m\n\u001b[0m\u001b[0;32m     49\u001b[0m \u001b[1;33m\u001b[0m\u001b[0m\n\u001b[0;32m     50\u001b[0m \u001b[1;33m\u001b[0m\u001b[0m\n",
      "\u001b[1;32m/usr/lib/python2.7/dist-packages/numpy/lib/function_base.pyc\u001b[0m in \u001b[0;36mmeshgrid\u001b[1;34m(*xi, **kwargs)\u001b[0m\n\u001b[0;32m   3074\u001b[0m     \u001b[1;32mif\u001b[0m \u001b[0mlen\u001b[0m\u001b[1;33m(\u001b[0m\u001b[0mxi\u001b[0m\u001b[1;33m)\u001b[0m \u001b[1;33m<\u001b[0m \u001b[1;36m2\u001b[0m\u001b[1;33m:\u001b[0m\u001b[1;33m\u001b[0m\u001b[0m\n\u001b[0;32m   3075\u001b[0m         \u001b[0mmsg\u001b[0m \u001b[1;33m=\u001b[0m \u001b[1;34m'meshgrid() takes 2 or more arguments (%d given)'\u001b[0m \u001b[1;33m%\u001b[0m \u001b[0mint\u001b[0m\u001b[1;33m(\u001b[0m\u001b[0mlen\u001b[0m\u001b[1;33m(\u001b[0m\u001b[0mxi\u001b[0m\u001b[1;33m)\u001b[0m \u001b[1;33m>\u001b[0m \u001b[1;36m0\u001b[0m\u001b[1;33m)\u001b[0m\u001b[1;33m\u001b[0m\u001b[0m\n\u001b[1;32m-> 3076\u001b[1;33m         \u001b[1;32mraise\u001b[0m \u001b[0mValueError\u001b[0m\u001b[1;33m(\u001b[0m\u001b[0mmsg\u001b[0m\u001b[1;33m)\u001b[0m\u001b[1;33m\u001b[0m\u001b[0m\n\u001b[0m\u001b[0;32m   3077\u001b[0m \u001b[1;33m\u001b[0m\u001b[0m\n\u001b[0;32m   3078\u001b[0m     \u001b[0margs\u001b[0m \u001b[1;33m=\u001b[0m \u001b[0mnp\u001b[0m\u001b[1;33m.\u001b[0m\u001b[0matleast_1d\u001b[0m\u001b[1;33m(\u001b[0m\u001b[1;33m*\u001b[0m\u001b[0mxi\u001b[0m\u001b[1;33m)\u001b[0m\u001b[1;33m\u001b[0m\u001b[0m\n",
      "\u001b[1;31mValueError\u001b[0m: meshgrid() takes 2 or more arguments (1 given)"
     ]
    }
   ],
   "source": [
    "# Measurement noise\n",
    "noise_var = 0.05 ** 2\n",
    "\n",
    "# Set fixed Gaussian measurement noise\n",
    "likelihood = GPy.likelihoods.gaussian.Gaussian(variance=noise_var)\n",
    "\n",
    "# Bounds on the inputs variable\n",
    "bounds = [(-10., 10.)]\n",
    "\n",
    "# Define Kernel\n",
    "kernel = GPy.kern.RBF(input_dim=len(bounds), variance=2., lengthscale=1.0, ARD=True)\n",
    "\n",
    "# set of parameters\n",
    "parameter_set = safeopt.linearly_spaced_combinations(bounds, 100)\n",
    "\n",
    "# Initial safe point\n",
    "x0 = np.zeros((1, len(bounds)))\n",
    "\n",
    "# Generate function with safe initial point at x=0\n",
    "def sample_safe_fun():\n",
    "    while True:\n",
    "        fun = safeopt.sample_gp_function(kernel, bounds, noise_var, 100)\n",
    "        if fun(0, noise=False) > 0.5:\n",
    "            break\n",
    "    return fun"
   ]
  },
  {
   "cell_type": "markdown",
   "metadata": {},
   "source": [
    "## Interactive run of the algorithm"
   ]
  },
  {
   "cell_type": "code",
   "execution_count": 3,
   "metadata": {
    "collapsed": false,
    "scrolled": true
   },
   "outputs": [
    {
     "ename": "NameError",
     "evalue": "global name 'sample_safe_fun' is not defined",
     "output_type": "error",
     "traceback": [
      "\u001b[1;31m---------------------------------------------------------------------------\u001b[0m",
      "\u001b[1;31mNameError\u001b[0m                                 Traceback (most recent call last)",
      "\u001b[1;32m<ipython-input-3-693e290b70cb>\u001b[0m in \u001b[0;36m<module>\u001b[1;34m()\u001b[0m\n\u001b[0;32m     45\u001b[0m \u001b[1;33m\u001b[0m\u001b[0m\n\u001b[0;32m     46\u001b[0m \u001b[0mdisplay\u001b[0m\u001b[1;33m.\u001b[0m\u001b[0mdisplay\u001b[0m\u001b[1;33m(\u001b[0m\u001b[0mbutton_add\u001b[0m\u001b[1;33m,\u001b[0m \u001b[0mbutton_new\u001b[0m\u001b[1;33m,\u001b[0m \u001b[0mbutton_reset\u001b[0m\u001b[1;33m)\u001b[0m\u001b[1;33m\u001b[0m\u001b[0m\n\u001b[1;32m---> 47\u001b[1;33m \u001b[0mnew_fun\u001b[0m\u001b[1;33m(\u001b[0m\u001b[1;33m)\u001b[0m\u001b[1;33m\u001b[0m\u001b[0m\n\u001b[0m",
      "\u001b[1;32m<ipython-input-3-693e290b70cb>\u001b[0m in \u001b[0;36mnew_fun\u001b[1;34m(b)\u001b[0m\n\u001b[0;32m     40\u001b[0m     \u001b[1;34m\"\"\"Draw a new function from the GP\"\"\"\u001b[0m\u001b[1;33m\u001b[0m\u001b[0m\n\u001b[0;32m     41\u001b[0m     \u001b[1;32mglobal\u001b[0m \u001b[0mfun\u001b[0m\u001b[1;33m\u001b[0m\u001b[0m\n\u001b[1;32m---> 42\u001b[1;33m     \u001b[0mfun\u001b[0m \u001b[1;33m=\u001b[0m \u001b[0msample_safe_fun\u001b[0m\u001b[1;33m(\u001b[0m\u001b[1;33m)\u001b[0m\u001b[1;33m\u001b[0m\u001b[0m\n\u001b[0m\u001b[0;32m     43\u001b[0m     \u001b[0mreset\u001b[0m\u001b[1;33m(\u001b[0m\u001b[0mb\u001b[0m\u001b[1;33m)\u001b[0m\u001b[1;33m\u001b[0m\u001b[0m\n\u001b[0;32m     44\u001b[0m \u001b[0mbutton_new\u001b[0m\u001b[1;33m.\u001b[0m\u001b[0mon_click\u001b[0m\u001b[1;33m(\u001b[0m\u001b[0mnew_fun\u001b[0m\u001b[1;33m)\u001b[0m\u001b[1;33m\u001b[0m\u001b[0m\n",
      "\u001b[1;31mNameError\u001b[0m: global name 'sample_safe_fun' is not defined"
     ]
    }
   ],
   "source": [
    "button_add = widgets.Button(description='Add sample', tooltip='Sample a new data point for the optimization')\n",
    "button_reset = widgets.Button(description='Reset', tooltip='Restart the safe optimization algorithm')\n",
    "button_new = widgets.Button(description='New function', tooltip='Add a new function and reset')\n",
    "\n",
    "def plot_gp():\n",
    "    gp_opt.plot()\n",
    "    \n",
    "    # Plot last point red\n",
    "    if gp_opt.gp is not None:\n",
    "        plt.plot(gp_opt.gp.X[-1, :], gp_opt.gp.Y[-1, :], 'rx', ms=10, mew=3, label='Last Point')\n",
    "        \n",
    "    # Plot safe line\n",
    "    if len(bounds) == 1:\n",
    "        plt.plot([bounds[0][0], bounds[0][1]], [0, 0], 'k--', label='Minimum')\n",
    "        \n",
    "    inp = np.linspace(bounds[0][0], bounds[0][1], 200)[:, None]\n",
    "    plt.plot(inp, fun(inp, noise=False), alpha=0.15, label='True function')\n",
    "    \n",
    "    plt.ylim([-4, 4])\n",
    "    plt.legend(loc=3)\n",
    "    \n",
    "    # Ensure we only get one plot\n",
    "    display.clear_output(wait=True)\n",
    "\n",
    "def new_sample(b=None):\n",
    "    \"\"\"Draw a new gp sample\"\"\"\n",
    "    gp_opt.optimize()\n",
    "    plot_gp()\n",
    "button_add.on_click(new_sample)\n",
    "\n",
    "def reset(b=None):\n",
    "    \"\"\"Reset the GP-UCB algorithm\"\"\"\n",
    "    global gp_opt\n",
    "    gp = GPy.core.GP(x0, fun(x0), kernel, likelihood)\n",
    "    gp_opt = safeopt.SafeOpt(fun, gp, parameter_set, 0.)\n",
    "    plot_gp()\n",
    "button_reset.on_click(reset)\n",
    "\n",
    "def new_fun(b=None):\n",
    "    \"\"\"Draw a new function from the GP\"\"\"\n",
    "    global fun\n",
    "    fun = sample_safe_fun()\n",
    "    reset(b)\n",
    "button_new.on_click(new_fun)\n",
    "\n",
    "display.display(button_add, button_new, button_reset)\n",
    "new_fun()"
   ]
  },
  {
   "cell_type": "code",
   "execution_count": null,
   "metadata": {
    "collapsed": false
   },
   "outputs": [],
   "source": []
  },
  {
   "cell_type": "code",
   "execution_count": null,
   "metadata": {
    "collapsed": true
   },
   "outputs": [],
   "source": []
  },
  {
   "cell_type": "code",
   "execution_count": null,
   "metadata": {
    "collapsed": true
   },
   "outputs": [],
   "source": []
  },
  {
   "cell_type": "code",
   "execution_count": null,
   "metadata": {
    "collapsed": true
   },
   "outputs": [],
   "source": []
  },
  {
   "cell_type": "code",
   "execution_count": null,
   "metadata": {
    "collapsed": true
   },
   "outputs": [],
   "source": []
  }
 ],
 "metadata": {
  "kernelspec": {
   "display_name": "Python 2",
   "language": "python",
   "name": "python2"
  },
  "language_info": {
   "codemirror_mode": {
    "name": "ipython",
    "version": 2
   },
   "file_extension": ".py",
   "mimetype": "text/x-python",
   "name": "python",
   "nbconvert_exporter": "python",
   "pygments_lexer": "ipython2",
   "version": "2.7.6"
  }
 },
 "nbformat": 4,
 "nbformat_minor": 0
}
